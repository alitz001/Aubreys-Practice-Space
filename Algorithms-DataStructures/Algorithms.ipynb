{
 "cells": [
  {
   "cell_type": "code",
   "execution_count": 1,
   "metadata": {},
   "outputs": [],
   "source": [
    "# Students Grades Algorithm Problem\n",
    "\n",
    "# Every student receives a grade\n",
    "# Grade less < 40 is failing \n",
    "# If the difference between the grade and the next multiple of 5 is < 3, round grade up to next multiple of 5\n",
    "# If the value of the grade is < 38, do not round grade\n",
    "\n",
    "# Examples:\n",
    "\n",
    "#  grade == 84: round to  (85 - 84 is less than 3)\n",
    "#  grade == 29: do not round (result is less than 40)\n",
    "#  grade == 57: do not round (60 - 57 is 3 or higher) \n",
    "\n",
    "# original grades (73, 67, 38, 33)\n"
   ]
  },
  {
   "cell_type": "code",
   "execution_count": 2,
   "metadata": {},
   "outputs": [],
   "source": [
    "import math"
   ]
  },
  {
   "cell_type": "code",
   "execution_count": 9,
   "metadata": {},
   "outputs": [
    {
     "name": "stdout",
     "output_type": "stream",
     "text": [
      "[75, 67, 40, 33]\n"
     ]
    }
   ],
   "source": [
    "def grading_students (grades):\n",
    "    for num in range(len(grades)):\n",
    "        if grades[num] < 38:\n",
    "            continue\n",
    "\n",
    "        multiple = math.ceil(grades[num] / 5) * 5\n",
    "\n",
    "        difference = multiple - grades[num]\n",
    "        if difference < 3:\n",
    "            grades[num] = multiple\n",
    "        else:\n",
    "            continue\n",
    "\n",
    "    return grades\n",
    "\n",
    "print(grading_students([73,67,38,33]))\n",
    "\n",
    "        "
   ]
  }
 ],
 "metadata": {
  "interpreter": {
   "hash": "c90bb62119f0a8a234c1039e24843e2b28acb6aee498e6564669902f5378d76e"
  },
  "kernelspec": {
   "display_name": "Python 3.9.7 ('shadow')",
   "language": "python",
   "name": "python3"
  },
  "language_info": {
   "codemirror_mode": {
    "name": "ipython",
    "version": 3
   },
   "file_extension": ".py",
   "mimetype": "text/x-python",
   "name": "python",
   "nbconvert_exporter": "python",
   "pygments_lexer": "ipython3",
   "version": "3.9.7"
  },
  "orig_nbformat": 4
 },
 "nbformat": 4,
 "nbformat_minor": 2
}
